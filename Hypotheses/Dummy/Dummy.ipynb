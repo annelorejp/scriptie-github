{
 "cells": [
  {
   "cell_type": "code",
   "execution_count": 9,
   "metadata": {},
   "outputs": [
    {
     "name": "stderr",
     "output_type": "stream",
     "text": [
      "//anaconda3/lib/python3.7/site-packages/statsmodels/tools/_testing.py:19: FutureWarning: pandas.util.testing is deprecated. Use the functions in the public API at pandas.testing instead.\n",
      "  import pandas.util.testing as tm\n",
      "//anaconda3/lib/python3.7/site-packages/sklearn/externals/six.py:31: FutureWarning: The module is deprecated in version 0.21 and will be removed in version 0.23 since we've dropped support for Python 2.7. Please rely on the official version of six (https://pypi.org/project/six/).\n",
      "  \"(https://pypi.org/project/six/).\", FutureWarning)\n"
     ]
    }
   ],
   "source": [
    "# IMPORTS\n",
    "import requests\n",
    "import json\n",
    "from sportmonks.soccer import SoccerApiV2\n",
    "from sklearn.tree import DecisionTreeClassifier\n",
    "from sklearn.metrics import classification_report, confusion_matrix, accuracy_score, log_loss\n",
    "import numpy as np\n",
    "import pandas as pd\n",
    "from sklearn.model_selection import train_test_split\n",
    "from sklearn.preprocessing import LabelEncoder\n",
    "from sklearn.feature_extraction.text import TfidfVectorizer\n",
    "from sklearn.feature_extraction.text import CountVectorizer\n",
    "from sklearn import preprocessing\n",
    "import xlsxwriter\n",
    "import excel2json\n",
    "from datetime import datetime\n",
    "from sklearn.metrics import accuracy_score,confusion_matrix\n",
    "import matplotlib.pyplot as plt\n",
    "import seaborn as sns\n",
    "import numpy as np\n",
    "import matplotlib.pyplot as plt\n",
    "\n",
    "from sklearn.tree import export_graphviz\n",
    "from sklearn.externals.six import StringIO  \n",
    "from IPython.display import Image  \n",
    "import pydotplus"
   ]
  },
  {
   "cell_type": "code",
   "execution_count": 10,
   "metadata": {},
   "outputs": [],
   "source": [
    "# JSON FORMAT PRINT\n",
    "def jprint(obj):\n",
    "    # create a formatted string of the Python JSON object\n",
    "    text = json.dumps(obj, sort_keys=True, indent=4)\n",
    "    print(text)"
   ]
  },
  {
   "cell_type": "code",
   "execution_count": 11,
   "metadata": {},
   "outputs": [],
   "source": [
    "# API key\n",
    "soccer = SoccerApiV2(api_token='kDasthE00jpkFjEERAZNFyE9a79LNX3tPeaAqlhB3s2NhckJbKDhyL94j7AO')"
   ]
  },
  {
   "cell_type": "code",
   "execution_count": 4,
   "metadata": {},
   "outputs": [
    {
     "name": "stdout",
     "output_type": "stream",
     "text": [
      "[['Name', 'Position', 'Minutes_played', 'Day_since_start', 'Venue', 'Injured'], ['Diederik Boer', 'G', 90, 0, 'artificial turf', 'No'], ['Kingsley Ehizibue', 'D', 90, 0, 'artificial turf', 'No'], ['Darryl Lachman', 'D', 90, 0, 'artificial turf', 'No'], ['Dirk Marcellis', 'D', 90, 0, 'artificial turf', 'No'], ['Bram Van Polen', 'D', 90, 0, 'artificial turf', 'No'], ['Gustavo Hamer', 'M', 90, 0, 'artificial turf', 'No'], ['Clint Leemans', 'M', 90, 0, 'artificial turf', 'No'], ['Denis Genreau', 'M', 46, 0, 'artificial turf', 'No'], ['Zian Flemming', 'M', 87, 0, 'artificial turf', 'No'], ['Vito van Crooy', 'A', 90, 0, 'artificial turf', 'No'], ['Mike van Duinen', 'A', 90, 0, 'artificial turf', 'No'], ['Warner Hahn', 'G', 90, 0, 'artificial turf', 'No'], ['Doke Schmidt', 'D', 90, 0, 'artificial turf', 'No'], ['Daniel Høegh', 'D', 90, 0, 'artificial turf', 'No'], ['Dave Bulthuis', 'D', 90, 0, 'artificial turf', 'No'], ['Kik Pierie', 'D', 90, 0, 'artificial turf', 'No'], ['Morten Thorsby', 'M', 90, 0, 'artificial turf', 'No'], ['Yuki Kobayashi', 'M', 90, 0, 'artificial turf', 'No'], ['Michel Vlap', 'M', 87, 0, 'artificial turf', 'No'], ['Nemanja Mihajlović', 'A', 59, 0, 'artificial turf', 'No'], ['Sam Lammers', 'A', 90, 0, 'artificial turf', 'No'], ['Arbër Zeneli', 'A', 66, 0, 'artificial turf', 'No'], ['T. Wellenreuther', 'G', 90, 1, 'grass', 'No'], ['D. Dankerlui', 'D', 90, 1, 'grass', 'No'], ['F. Lewis', 'D', 90, 1, 'grass', 'No'], ['F. Heerkens', 'D', 90, 1, 'grass', 'No'], ['J. Mcgarry', 'M', 63, 1, 'grass', 'No'], ['Pol Llonch', 'M', 76, 1, 'grass', 'Yes'], ['D. Crowley', 'M', 90, 1, 'grass', 'No'], ['E. Lieftink', 'M', 90, 1, 'grass', 'No'], ['J. Croux', 'A', 90, 1, 'grass', 'No'], ['Fran Sol', 'A', 90, 1, 'grass', 'No'], ['D. Palacios', 'D', 90, 1, 'grass', 'No'], ['L. Unnerstall', 'G', 90, 1, 'grass', 'No'], ['C. Kum', 'D', 90, 1, 'grass', 'No'], ['J. Promes', 'D', 90, 1, 'grass', 'No'], ['N. Röseler', 'D', 90, 1, 'grass', 'No'], ['R. Janssen', 'D', 90, 1, 'grass', 'No'], ['M. Rutten', 'D', 90, 1, 'grass', 'No'], ['D. Post', 'M', 90, 1, 'grass', 'No'], ['T. Sušić', 'M', 90, 1, 'grass', 'No'], ['P. van Ooijen', 'M', 74, 1, 'grass', 'No'], ['R. Seuntjens', 'M', 65, 1, 'grass', 'No'], ['M. Samuelsen', 'M', 82, 1, 'grass', 'No'], ['A. Onana', 'G', 90, 1, 'grass', 'No'], ['N. Mazraoui', 'D', 90, 1, 'grass', 'No'], ['M. de Ligt', 'D', 90, 1, 'grass', 'No'], ['D. Blind', 'D', 90, 1, 'grass', 'No'], ['M. Wöber', 'D', 56, 1, 'grass', 'Yes'], ['C. Eiting', 'M', 90, 1, 'grass', 'No'], ['H. Ziyech', 'M', 90, 1, 'grass', 'No'], ['D. van de Beek', 'M', 90, 1, 'grass', 'No'], ['D. Tadić', 'M', 90, 1, 'grass', 'No'], ['K. Sierhuis', 'A', 56, 1, 'grass', 'No'], ['David Neres', 'A', 85, 1, 'grass', 'No'], ['J. Blaswich', 'G', 90, 1, 'grass', 'No'], ['W. Droste', 'D', 79, 1, 'grass', 'No'], ['M. Rossmann', 'D', 90, 1, 'grass', 'No'], ['R. Pröpper', 'D', 90, 1, 'grass', 'No'], ['B. van Hintum', 'D', 82, 1, 'grass', 'No'], ['M. Osman', 'M', 90, 1, 'grass', 'No'], ['L. Duarte', 'M', 90, 1, 'grass', 'No'], ['Y. van Nieff', 'D', 90, 1, 'grass', 'No'], ['B. Kuwas', 'A', 77, 1, 'grass', 'No'], ['Adrián Dalmau', 'A', 90, 1, 'grass', 'No'], ['K. Peterson', 'A', 90, 1, 'grass', 'No'], ['J. Zoet', 'G', 90, 1, 'grass', 'No'], ['D. Dumfries', 'D', 90, 1, 'grass', 'No'], ['D. Schwaab', 'D', 90, 1, 'grass', 'No'], ['N. Viergever', 'D', 90, 1, 'grass', 'No'], ['Angeliño', 'D', 90, 1, 'grass', 'No'], ['P. Rosario', 'M', 67, 1, 'grass', 'No'], ['G. Pereiro', 'M', 81, 1, 'grass', 'No'], ['J. Hendrix', 'M', 90, 1, 'grass', 'No'], ['S. Bergwijn', 'A', 86, 1, 'grass', 'No'], ['L. de Jong', 'A', 90, 1, 'grass', 'No'], ['H. Lozano', 'A', 90, 1, 'grass', 'No'], ['D. Jensen', 'G', 90, 1, 'grass', 'No'], ['G. Troupée', 'D', 71, 1, 'grass', 'No'], ['R. Leeuwin', 'D', 90, 1, 'grass', 'No'], ['W. Janssen', 'D', 90, 1, 'grass', 'No'], ['M. van der Maarel', 'D', 90, 1, 'grass', 'No'], ['L. Guwara', 'D', 90, 1, 'grass', 'No'], ['S. Klaiber', 'D', 90, 1, 'grass', 'No'], ['Simon Gustafson', 'M', 90, 1, 'grass', 'No'], ['U. Emanuelson', 'M', 81, 1, 'grass', 'Yes'], ['S. van de Streek', 'M', 90, 1, 'grass', 'No'], ['G. Kerk', 'A', 59, 1, 'grass', 'No'], ['Sonny Stevens', 'G', 29, 1, 'artificial turf', 'Yes'], ['Jeffrey Fortes', 'D', 90, 1, 'artificial turf', 'No'], ['Jurgen Matheij', 'D', 90, 1, 'artificial turf', 'No'], ['Herve Matthys', 'D', 90, 1, 'artificial turf', 'No'], ['Lorenzo Burnet', 'D', 90, 1, 'artificial turf', 'No'], ['Jerdy Schouten', 'M', 90, 1, 'artificial turf', 'No'], ['Ali Messaoud', 'M', 90, 1, 'artificial turf', 'No'], ['Ryan Koolwijk', 'M', 90, 1, 'artificial turf', 'No'], ['Mikael Anderson', 'M', 90, 1, 'artificial turf', 'No'], ['Anouar Hadouir', 'A', 78, 1, 'artificial turf', 'No'], ['Luigi Bruins', 'A', 90, 1, 'artificial turf', 'No'], ['Alexei Koşelev', 'G', 90, 1, 'artificial turf', 'No'], ['Alessandro Ciranni', 'D', 90, 1, 'artificial turf', 'No'], ['Wessel Dammers', 'D', 90, 1, 'artificial turf', 'No'], ['Kai Heerings', 'D', 90, 1, 'artificial turf', 'No'], ['Mica', 'D', 90, 1, 'artificial turf', 'No'], ['Jorrit Smeets', 'M', 69, 1, 'artificial turf', 'No'], ['Ahmed El Messaoudi', 'M', 90, 1, 'artificial turf', 'No'], ['Mark Diemers', 'M', 90, 1, 'artificial turf', 'No'], ['Lisandro Semedo', 'A', 90, 1, 'artificial turf', 'No'], ['Andrija Novakovich', 'A', 90, 1, 'artificial turf', 'No'], ['Lars Hutten', 'M', 81, 1, 'artificial turf', 'No'], ['Indy Groothuizen', 'G', 90, 2, 'artificial turf', 'No'], ['Dion Malone', 'M', 75, 2, 'artificial turf', 'No'], ['Aaron Meijers', 'D', 75, 2, 'artificial turf', 'No'], ['Tom Beugelsdijk', 'D', 90, 2, 'artificial turf', 'No'], ['Wilfried Kanon', 'D', 90, 2, 'artificial turf', 'No'], ['Lex Immers', 'M', 90, 2, 'artificial turf', 'No'], ['Abdenasser El Khayati', 'M', 90, 2, 'artificial turf', 'No'], ['Danny Bakker', 'M', 90, 2, 'artificial turf', 'No'], ['Erik Falkenburg', 'A', 90, 2, 'artificial turf', 'No'], ['Melvyn Lorenzen', 'A', 58, 2, 'artificial turf', 'Yes'], ['Sheraldo Becker', 'A', 90, 2, 'artificial turf', 'No'], ['Kjell Scherpen', 'G', 90, 2, 'artificial turf', 'No'], ['Gersom Klok', 'D', 90, 2, 'artificial turf', 'No'], ['Caner Cavlan', 'D', 90, 2, 'artificial turf', 'No'], ['Nick Bakker', 'D', 90, 2, 'artificial turf', 'No'], ['Keziah Veendorp', 'D', 90, 2, 'artificial turf', 'No'], ['Luciano Slagveer', 'A', 90, 2, 'artificial turf', 'No'], ['Hilal Ben Moussa', 'M', 79, 2, 'artificial turf', 'Yes'], ['Wouter Marinus', 'M', 90, 2, 'artificial turf', 'No'], ['Glenn Bijl', 'M', 90, 2, 'artificial turf', 'No'], ['Nicklas Pedersen', 'A', 68, 2, 'artificial turf', 'Yes'], ['Anco Jansen', 'A', 90, 2, 'artificial turf', 'No'], ['Hidde Jurjus', 'G', 90, 2, 'grass', 'No'], ['Myenty Abena', 'D', 90, 2, 'grass', 'No'], ['Sven Nieuwpoort', 'D', 90, 2, 'grass', 'No'], ['Ted Van de Pavert', 'D', 90, 2, 'grass', 'No'], ['Leeroy Owusu', 'D', 74, 2, 'grass', 'Yes'], ['Erik Bakker', 'M', 62, 2, 'grass', 'Yes'], ['Stefan Nijland', 'M', 90, 2, 'grass', 'No'], ['Jordy Tutuarima', 'D', 90, 2, 'grass', 'No'], ['Daryl van Mieghem', 'A', 69, 2, 'grass', 'No'], ['Fabian Serrarens', 'A', 90, 2, 'grass', 'No'], ['Youssef El Jebli', 'M', 90, 2, 'grass', 'No'], ['Justin Bijlow', 'G', 90, 2, 'grass', 'No'], ['Jeremiah St. Juste', 'D', 46, 2, 'grass', 'No'], ['Eric Botteghin', 'D', 90, 2, 'grass', 'No'], ['Jan-Arie Van der Heijden', 'D', 90, 2, 'grass', 'No'], ['Calvin Verdonk', 'D', 90, 2, 'grass', 'No'], ['Jens Toornstra', 'M', 80, 2, 'grass', 'No'], ['Jordy Clasie', 'M', 90, 2, 'grass', 'No'], ['Tonny Vilhena', 'M', 90, 2, 'grass', 'No'], ['Steven Berghuis', 'A', 90, 2, 'grass', 'No'], ['Robin van Persie', 'A', 74, 2, 'grass', 'No'], ['Jean-Paul Boëtius', 'A', 90, 2, 'grass', 'No'], ['Eduardo', 'G', 90, 2, 'grass', 'No'], ['Vyacheslav Karavaev', 'D', 90, 2, 'grass', 'No'], ['Maikel Van der Werff', 'D', 90, 2, 'grass', 'No'], ['Jake Clarke-Salter', 'D', 90, 2, 'grass', 'No'], ['Alexander Büttner', 'D', 90, 2, 'grass', 'No'], ['Thulani Serero', 'M', 90, 2, 'grass', 'No'], ['Matúš Bero', 'M', 90, 2, 'grass', 'No'], ['Navarone Foor', 'M', 90, 2, 'grass', 'No'], ['Roy Beerens', 'A', 82, 2, 'grass', 'Yes'], ['Tim Matavz', 'A', 90, 2, 'grass', 'No'], ['Bryan Linssen', 'A', 77, 2, 'grass', 'Yes'], ['Sergio Padt', 'G', 90, 2, 'grass', 'No'], ['Deyovaisio Zeefuik', 'D', 90, 2, 'grass', 'No'], ['Mike te Wierik', 'D', 90, 2, 'grass', 'No'], ['Samir Memisevic', 'D', 90, 2, 'grass', 'No'], ['Django Warmerdam', 'D', 90, 2, 'grass', 'No'], ['Tom Van De Looi', 'M', 90, 2, 'grass', 'No'], ['Ajdin Hrustic', 'M', 90, 2, 'grass', 'No'], ['Ritsu Doan', 'M', 90, 2, 'grass', 'No'], ['Jesper Drost', 'M', 58, 2, 'grass', 'No'], ['Mimoun Mahi', 'M', 90, 2, 'grass', 'No'], ['Tom Van Weert', 'A', 72, 2, 'grass', 'No'], ['Marco Bizot', 'G', 90, 2, 'grass', 'No'], ['Jonas Svensson', 'D', 90, 2, 'grass', 'No'], ['Pantelis Hatzidiakos', 'D', 90, 2, 'grass', 'No'], ['Ron Vlaar', 'D', 81, 2, 'grass', 'No'], ['Thomas Ouwejan', 'D', 90, 2, 'grass', 'No'], ['Guus Til', 'M', 90, 2, 'grass', 'No'], ['Fredrik Midtsjø', 'M', 76, 2, 'grass', 'No'], ['Teun Koopmeiners', 'M', 90, 2, 'grass', 'No'], ['Mats Seuntjens', 'A', 90, 2, 'grass', 'No'], ['Myron Boadu', 'A', 81, 2, 'grass', 'No'], ['Oussama Idrissi', 'A', 90, 2, 'grass', 'No'], ['Mark Birighitti', 'G', 90, 2, 'grass', 'No'], ['Fabian Sporkslede', 'D', 90, 2, 'grass', 'No'], ['Menno Koch', 'D', 90, 2, 'grass', 'No'], ['Karol Mets', 'D', 90, 2, 'grass', 'No'], ['Greg Leigh', 'D', 90, 2, 'grass', 'No'], ['Arno Verschueren', 'M', 90, 2, 'grass', 'No'], ['Anouar Kali', 'M', 90, 2, 'grass', 'No'], ['Mikhael Rosheuvel', 'M', 90, 2, 'grass', 'No'], ['Mounir El Allouchi', 'M', 90, 2, 'grass', 'No'], ['Gervane Kastaneer', 'A', 46, 2, 'grass', 'No'], ['Mitchell Te Vrede', 'A', 70, 2, 'grass', 'Yes'], ['Sergio Padt', 'G', 90, 7, 'grass', 'No'], ['Deyovaisio Zeefuik', 'D', 90, 7, 'grass', 'No'], ['Mike te Wierik', 'D', 90, 7, 'grass', 'No'], ['Samir Memisevic', 'D', 90, 7, 'grass', 'No'], ['Django Warmerdam', 'D', 90, 7, 'grass', 'No'], ['Tom Van De Looi', 'M', 72, 7, 'grass', 'Yes'], ['Ajdin Hrustic', 'M', 90, 7, 'grass', 'No'], ['Ritsu Doan', 'M', 90, 7, 'grass', 'No'], ['Jesper Drost', 'M', 46, 7, 'grass', 'No'], ['Mimoun Mahi', 'M', 46, 7, 'grass', 'No'], ['Tom Van Weert', 'A', 90, 7, 'grass', 'No'], ['Timon Wellenreuther', 'G', 90, 7, 'grass', 'No'], ['Damil Dankerlui', 'D', 90, 7, 'grass', 'No'], ['Fernando Lewis', 'D', 90, 7, 'grass', 'No'], ['Freek Heerkens', 'D', 90, 7, 'grass', 'No'], ['James McGarry', 'M', 90, 7, 'grass', 'No'], ['Pol Llonch', 'M', 90, 7, 'grass', 'No'], ['Dan Crowley', 'M', 90, 7, 'grass', 'No'], ['Atakan Akkaynak', 'M', 79, 7, 'grass', 'Yes'], ['Jordy Croux', 'A', 46, 7, 'grass', 'No'], ['Fran Sol', 'A', 90, 7, 'grass', 'No'], ['Diego Palacios', 'D', 90, 7, 'grass', 'No'], ['A. Murić', 'G', 90, 8, 'grass', 'No'], ['A. Verschueren', 'M', 90, 8, 'grass', 'No'], ['M. Koch', 'D', 90, 8, 'grass', 'No'], ['K. Mets', 'D', 90, 8, 'grass', 'No'], ['G. Leigh', 'D', 71, 8, 'grass', 'No'], ['A. Kali', 'M', 90, 8, 'grass', 'No'], ['G. Nijholt', 'M', 90, 8, 'grass', 'No'], ['M. Rosheuvel', 'A', 90, 8, 'grass', 'No'], ['M. El Allouchi', 'M', 90, 8, 'grass', 'No'], ['M. te Vrede', 'A', 90, 8, 'grass', 'No'], ['H. Jurjus', 'G', 90, 8, 'grass', 'No'], ['M. Abena', 'D', 62, 8, 'grass', 'No'], ['S. Nieuwpoort', 'D', 90, 8, 'grass', 'No'], ['T. van de Pavert', 'D', 90, 8, 'grass', 'No'], ['L. Owusu', 'D', 90, 8, 'grass', 'No'], ['E. Bakker', 'M', 90, 8, 'grass', 'No'], ['S. Nijland', 'M', 46, 8, 'grass', 'No'], ['J. Tutuarima', 'D', 90, 8, 'grass', 'No'], ['D. van Mieghem', 'A', 57, 8, 'grass', 'No'], ['F. Serrarens', 'A', 90, 8, 'grass', 'No'], ['Y. El Jebli', 'M', 90, 8, 'grass', 'No'], ['L. Ilić', 'M', 81, 8, 'grass', 'No'], ['Lars Unnerstall', 'G', 90, 8, 'artificial turf', 'No'], ['Christian Kum', 'D', 90, 8, 'artificial turf', 'Yes'], ['Nils Röseler', 'D', 90, 8, 'artificial turf', 'No'], ['Jerold Promes', 'D', 90, 8, 'artificial turf', 'No'], ['Moreno Rutten', 'D', 90, 8, 'artificial turf', 'No'], ['Danny Post', 'M', 90, 8, 'artificial turf', 'No'], ['Peter van Ooijen', 'M', 90, 8, 'artificial turf', 'No'], ['Jay-Roy Grot', 'A', 74, 8, 'artificial turf', 'No'], ['Ralf Seuntjens', 'M', 70, 8, 'artificial turf', 'No'], ['Martin Samuelsen', 'M', 90, 8, 'artificial turf', 'No'], ['André Onana', 'G', 90, 8, 'artificial turf', 'No'], ['Noussair Mazraoui', 'D', 90, 8, 'artificial turf', 'No'], ['Matthijs De Ligt', 'D', 90, 8, 'artificial turf', 'No'], ['Daley Blind', 'D', 82, 8, 'artificial turf', 'No'], ['Nicolás Tagliafico', 'D', 90, 8, 'artificial turf', 'No'], ['Hakim Ziyech', 'M', 90, 8, 'artificial turf', 'No'], ['Lasse Schöne', 'M', 72, 8, 'artificial turf', 'No'], ['Frenkie de Jong', 'M', 90, 8, 'artificial turf', 'No'], ['David Neres', 'A', 26, 8, 'artificial turf', 'Yes'], ['Klaas-Jan Huntelaar', 'A', 90, 8, 'artificial turf', 'No'], ['Dušan Tadić', 'M', 90, 8, 'artificial turf', 'No'], ['Alexei Koşelev', 'G', 90, 8, 'grass', 'No'], ['Clint Essers', 'D', 90, 8, 'grass', 'No'], ['Wessel Dammers', 'D', 90, 8, 'grass', 'No'], ['Kai Heerings', 'D', 90, 8, 'grass', 'No'], ['Mica', 'D', 90, 8, 'grass', 'No'], ['Jorrit Smeets', 'M', 90, 8, 'grass', 'No'], ['Mark Diemers', 'M', 90, 8, 'grass', 'No'], ['Ahmed El Messaoudi', 'M', 81, 8, 'grass', 'No'], ['Lisandro Semedo', 'A', 79, 8, 'grass', 'No'], ['Andrija Novakovich', 'A', 90, 8, 'grass', 'No'], ['Gavin Vlijter', 'A', 46, 8, 'grass', 'No'], ['Jeroen Zoet', 'G', 90, 8, 'grass', 'No'], ['Denzel Dumfries', 'D', 90, 8, 'grass', 'No'], ['Daniel Schwaab', 'D', 90, 8, 'grass', 'No'], ['Nick Viergever', 'D', 90, 8, 'grass', 'No'], ['Angeliño', 'D', 90, 8, 'grass', 'No'], ['Pablo Rosario', 'M', 66, 8, 'grass', 'No'], ['Gastón Pereiro', 'M', 83, 8, 'grass', 'No'], ['Jorrit Hendrix', 'M', 90, 8, 'grass', 'No'], ['Steven Bergwijn', 'A', 90, 8, 'grass', 'No'], ['Luuk de Jong', 'A', 90, 8, 'grass', 'No'], ['Hirving Lozano', 'A', 66, 8, 'grass', 'No'], ['Janis Jonathan Blaswich', 'G', 90, 8, 'artificial turf', 'No'], ['Tim Breukers', 'D', 85, 8, 'artificial turf', 'No'], ['Dario Van Den Buijs', 'D', 90, 8, 'artificial turf', 'No'], ['Robin Propper', 'D', 90, 8, 'artificial turf', 'No'], ['Bart Van Hintum', 'D', 90, 8, 'artificial turf', 'No'], ['Mohammed Osman', 'M', 90, 8, 'artificial turf', 'No'], ['Lerin Duarte', 'M', 90, 8, 'artificial turf', 'No'], ['Yoell Van Nieff', 'M', 56, 8, 'artificial turf', 'No'], ['Brandley Kuwas', 'A', 81, 8, 'artificial turf', 'No'], ['Adrian Dalmau', 'A', 90, 8, 'artificial turf', 'No'], ['Kristoffer Peterson', 'A', 90, 8, 'artificial turf', 'No'], ['Indy Groothuizen', 'G', 90, 8, 'artificial turf', 'No'], ['Dion Malone', 'M', 90, 8, 'artificial turf', 'No'], ['Tom Beugelsdijk', 'D', 46, 8, 'artificial turf', 'No'], ['Wilfried Kanon', 'D', 90, 8, 'artificial turf', 'No'], ['Aaron Meijers', 'D', 90, 8, 'artificial turf', 'No'], ['Lex Immers', 'M', 70, 8, 'artificial turf', 'No'], ['Abdenasser El Khayati', 'M', 90, 8, 'artificial turf', 'No'], ['Danny Bakker', 'M', 90, 8, 'artificial turf', 'No'], ['Sheraldo Becker', 'A', 90, 8, 'artificial turf', 'No'], ['Melvyn Lorenzen', 'A', 90, 8, 'artificial turf', 'No'], ['Elson Hooi', 'A', 67, 8, 'artificial turf', 'No'], ['Maarten Paes', 'G', 90, 9, 'grass', 'No'], ['Sean Klaiber', 'D', 90, 9, 'grass', 'No'], ['Emil Bergstrom', 'D', 90, 9, 'grass', 'No'], ['Willem Janssen', 'D', 90, 9, 'grass', 'No'], ['Leon Guwara', 'D', 90, 9, 'grass', 'No'], ['Joris Van Overeem', 'M', 90, 9, 'grass', 'No'], ['Urby Emanuelson', 'M', 90, 9, 'grass', 'No'], ['Nicolas Gavory', 'D', 90, 9, 'grass', 'No'], ['Simon Gustafsson', 'M', 90, 9, 'grass', 'No'], ['Gyrano Kerk', 'A', 84, 9, 'grass', 'No'], ['Sander van de Streek', 'M', 90, 9, 'grass', 'No'], ['Diederik Boer', 'G', 90, 9, 'grass', 'No'], ['Kingsley Ehizibue', 'D', 90, 9, 'grass', 'No'], ['Darryl Lachman', 'D', 90, 9, 'grass', 'No'], ['Dirk Marcellis', 'D', 46, 9, 'grass', 'No'], ['Bram Van Polen', 'D', 90, 9, 'grass', 'No'], ['Gustavo Hamer', 'M', 90, 9, 'grass', 'No'], ['Zian Flemming', 'M', 61, 9, 'grass', 'No'], ['Clint Leemans', 'M', 90, 9, 'grass', 'No'], ['Vito van Crooy', 'A', 90, 9, 'grass', 'No'], ['Mike van Duinen', 'A', 90, 9, 'grass', 'No'], ['Younes Namli', 'A', 81, 9, 'grass', 'No'], ['Justin Bijlow', 'G', 90, 9, 'grass', 'No'], ['Bart Nieuwkoop', 'D', 65, 9, 'grass', 'No'], ['Sven van Beek', 'D', 90, 9, 'grass', 'No'], ['Jan-Arie Van der Heijden', 'D', 90, 9, 'grass', 'No'], ['Tyrell Malacia', 'D', 90, 9, 'grass', 'No'], ['Jens Toornstra', 'M', 90, 9, 'grass', 'No'], ['Jordy Clasie', 'M', 70, 9, 'grass', 'No'], ['Tonny Vilhena', 'M', 90, 9, 'grass', 'No'], ['Steven Berghuis', 'A', 90, 9, 'grass', 'No'], ['Robin van Persie', 'A', 90, 9, 'grass', 'No'], ['Sam Larsson', 'A', 59, 9, 'grass', 'No'], ['Sonny Stevens', 'G', 90, 9, 'grass', 'No'], ['Jeffrey Fortes', 'D', 90, 9, 'grass', 'No'], ['Jurgen Matheij', 'D', 90, 9, 'grass', 'No'], ['Herve Matthys', 'D', 90, 9, 'grass', 'No'], ['Lorenzo Burnet', 'D', 90, 9, 'grass', 'No'], ['Jerdy Schouten', 'M', 90, 9, 'grass', 'No'], ['Ali Messaoud', 'M', 90, 9, 'grass', 'No'], ['Ryan Koolwijk', 'M', 90, 9, 'grass', 'No'], ['Mikael Anderson', 'M', 86, 9, 'grass', 'Yes'], ['Elías Már\\xa0Ómarsson', 'A', 90, 9, 'grass', 'No'], ['Anouar Hadouir', 'A', 27, 9, 'grass', 'No'], ['Kjell Scherpen', 'G', 90, 9, 'grass', 'No'], ['Gersom Klok', 'D', 90, 9, 'grass', 'No'], ['Keziah Veendorp', 'D', 90, 9, 'grass', 'No'], ['Nick Bakker', 'D', 90, 9, 'grass', 'No'], ['Caner Cavlan', 'D', 90, 9, 'grass', 'No'], ['Luciano Slagveer', 'A', 90, 9, 'grass', 'No'], ['Glenn Bijl', 'M', 90, 9, 'grass', 'No'], ['Hilal Ben Moussa', 'M', 90, 9, 'grass', 'No'], ['Wouter Marinus', 'M', 70, 9, 'grass', 'No'], ['Nicklas Pedersen', 'A', 90, 9, 'grass', 'No'], ['Anco Jansen', 'A', 90, 9, 'grass', 'No'], ['Marco Bizot', 'G', 90, 9, 'grass', 'No'], ['Jonas Svensson', 'D', 90, 9, 'grass', 'No'], ['Pantelis Hatzidiakos', 'D', 90, 9, 'grass', 'No'], ['Ron Vlaar', 'D', 90, 9, 'grass', 'No'], ['Thomas Ouwejan', 'D', 90, 9, 'grass', 'No'], ['Guus Til', 'M', 90, 9, 'grass', 'No'], ['Fredrik Midtsjø', 'M', 65, 9, 'grass', 'No'], ['Teun Koopmeiners', 'M', 90, 9, 'grass', 'No'], ['Mats Seuntjens', 'A', 90, 9, 'grass', 'No'], ['Myron Boadu', 'A', 90, 9, 'grass', 'No'], ['Oussama Idrissi', 'A', 90, 9, 'grass', 'No'], ['Warner Hahn', 'G', 90, 9, 'grass', 'No'], ['Lucas Woudenberg', 'D', 90, 9, 'grass', 'No'], ['Daniel Høegh', 'D', 90, 9, 'grass', 'No'], ['Dave Bulthuis', 'D', 90, 9, 'grass', 'No'], ['Kik Pierie', 'D', 90, 9, 'grass', 'No'], ['Rodney Kongolo', 'M', 90, 9, 'grass', 'No'], ['Yuki Kobayashi', 'M', 90, 9, 'grass', 'No'], ['Michel Vlap', 'M', 90, 9, 'grass', 'No'], ['Nemanja Mihajlović', 'A', 90, 9, 'grass', 'No'], ['Sam Lammers', 'A', 90, 9, 'grass', 'No'], ['Arbër Zeneli', 'A', 59, 9, 'grass', 'No'], ['Eduardo', 'G', 90, 9, 'grass', 'No'], ['Vyacheslav Karavaev', 'D', 90, 9, 'grass', 'No'], ['Maikel Van der Werff', 'D', 67, 9, 'grass', 'No'], ['Jake Clarke-Salter', 'D', 90, 9, 'grass', 'No'], ['Alexander Büttner', 'D', 90, 9, 'grass', 'No'], ['Matúš Bero', 'M', 67, 9, 'grass', 'Yes'], ['Thulani Serero', 'M', 90, 9, 'grass', 'No'], ['Navarone Foor', 'M', 90, 9, 'grass', 'No'], ['Roy Beerens', 'A', 90, 9, 'grass', 'No'], ['Tim Matavz', 'A', 90, 9, 'grass', 'No'], ['Bryan Linssen', 'A', 90, 9, 'grass', 'No'], ['Indy Groothuizen', 'G', 90, 14, 'artificial turf', 'No'], ['Dion Malone', 'M', 90, 14, 'artificial turf', 'No'], ['Tom Beugelsdijk', 'D', 90, 14, 'artificial turf', 'No'], ['Wilfried Kanon', 'D', 90, 14, 'artificial turf', 'No'], ['Aaron Meijers', 'D', 90, 14, 'artificial turf', 'No'], ['Lex Immers', 'M', 90, 14, 'artificial turf', 'No'], ['Abdenasser El Khayati', 'M', 85, 14, 'artificial turf', 'No'], ['John Goossens', 'M', 74, 14, 'artificial turf', 'No'], ['Sheraldo Becker', 'A', 90, 14, 'artificial turf', 'No'], ['Melvyn Lorenzen', 'A', 83, 14, 'artificial turf', 'No'], ['Elson Hooi', 'A', 90, 14, 'artificial turf', 'No'], ['Alexei Koşelev', 'G', 90, 14, 'artificial turf', 'No'], ['Clint Essers', 'D', 90, 14, 'artificial turf', 'No'], ['Wessel Dammers', 'D', 90, 14, 'artificial turf', 'No'], ['Kai Heerings', 'D', 90, 14, 'artificial turf', 'No'], ['Mica', 'D', 90, 14, 'artificial turf', 'No'], ['Jorrit Smeets', 'M', 90, 14, 'artificial turf', 'No'], ['Mark Diemers', 'M', 90, 14, 'artificial turf', 'No'], ['Ahmed El Messaoudi', 'M', 82, 14, 'artificial turf', 'No'], ['Lisandro Semedo', 'A', 90, 14, 'artificial turf', 'No'], ['Andrija Novakovich', 'A', 90, 14, 'artificial turf', 'No'], ['André Vidigal', 'A', 64, 14, 'artificial turf', 'No'], ['André Onana', 'G', 90, 15, 'grass', 'No'], ['Rasmus Kristensen', 'D', 90, 15, 'grass', 'No'], ['Matthijs De Ligt', 'D', 90, 15, 'grass', 'No'], ['Daley Blind', 'D', 90, 15, 'grass', 'No'], ['Nicolás Tagliafico', 'D', 90, 15, 'grass', 'No'], ['Donny van de Beek', 'M', 90, 15, 'grass', 'No'], ['Carel Eiting', 'M', 90, 15, 'grass', 'No'], ['Frenkie de Jong', 'M', 64, 15, 'grass', 'No'], ['Hakim Ziyech', 'M', 78, 15, 'grass', 'No'], ['Klaas-Jan Huntelaar', 'A', 64, 15, 'grass', 'No'], ['Dušan Tadić', 'M', 90, 15, 'grass', 'No'], ['Kjell Scherpen', 'G', 90, 15, 'grass', 'No'], ['Gersom Klok', 'D', 90, 15, 'grass', 'No'], ['Keziah Veendorp', 'D', 90, 15, 'grass', 'No'], ['Tim Siekman', 'D', 90, 15, 'grass', 'No'], ['Caner Cavlan', 'D', 90, 15, 'grass', 'No'], ['Luciano Slagveer', 'A', 78, 15, 'grass', 'No'], ['Glenn Bijl', 'M', 90, 15, 'grass', 'No'], ['Michael Chacon', 'M', 90, 15, 'grass', 'No'], ['Wouter Marinus', 'M', 46, 15, 'grass', 'No'], ['Nicklas Pedersen', 'A', 46, 15, 'grass', 'No'], ['Anco Jansen', 'A', 90, 15, 'grass', 'No'], ['Hidde Jurjus', 'G', 90, 15, 'grass', 'No'], ['Myenty Abena', 'D', 84, 15, 'grass', 'No'], ['Sven Nieuwpoort', 'D', 90, 15, 'grass', 'No'], ['Ted Van de Pavert', 'D', 90, 15, 'grass', 'No'], ['Leeroy Owusu', 'D', 90, 15, 'grass', 'No'], ['Erik Bakker', 'M', 90, 15, 'grass', 'No'], ['Stefan Nijland', 'M', 90, 15, 'grass', 'No'], ['Jordy Tutuarima', 'D', 46, 15, 'grass', 'No'], ['Daryl van Mieghem', 'A', 90, 15, 'grass', 'No'], ['Fabian Serrarens', 'A', 90, 15, 'grass', 'No'], ['Mohamed Hamdaoui', 'A', 57, 15, 'grass', 'No'], ['Sergio Padt', 'G', 90, 15, 'grass', 'No'], ['Deyovaisio Zeefuik', 'D', 90, 15, 'grass', 'No'], ['Mike te Wierik', 'D', 90, 15, 'grass', 'No'], ['Samir Memisevic', 'D', 90, 15, 'grass', 'No'], ['Tim Handwerker', 'D', 90, 15, 'grass', 'No'], ['Ludovit Reis', 'M', 90, 15, 'grass', 'No'], ['Ajdin Hrustic', 'M', 84, 15, 'grass', 'No'], ['Ritsu Doan', 'M', 90, 15, 'grass', 'No'], ['Michael Breij', 'A', 73, 15, 'grass', 'No'], ['Django Warmerdam', 'D', 90, 15, 'grass', 'No'], ['Mateo Cassierra', 'A', 63, 15, 'grass', 'No'], ['Karol Niemczycki', 'G', 90, 15, 'grass', 'No'], ['Arno Verschueren', 'M', 90, 15, 'grass', 'No'], ['Menno Koch', 'D', 90, 15, 'grass', 'No'], ['Karol Mets', 'D', 90, 15, 'grass', 'No'], ['Greg Leigh', 'D', 90, 15, 'grass', 'No'], ['Gianluca Nijholt', 'M', 46, 15, 'grass', 'No'], ['Anouar Kali', 'M', 90, 15, 'grass', 'No'], ['Mikhael Rosheuvel', 'M', 59, 15, 'grass', 'No'], ['Luka Ilić', 'M', 81, 15, 'grass', 'No'], ['Mounir El Allouchi', 'M', 90, 15, 'grass', 'No'], ['Mitchell Te Vrede', 'A', 90, 15, 'grass', 'No'], ['Sonny Stevens', 'G', 90, 15, 'grass', 'No'], ['Jeffrey Fortes', 'D', 90, 15, 'grass', 'No'], ['Jurgen Matheij', 'D', 90, 15, 'grass', 'No'], ['Herve Matthys', 'D', 90, 15, 'grass', 'No'], ['Lorenzo Burnet', 'D', 90, 15, 'grass', 'No'], ['Jerdy Schouten', 'M', 90, 15, 'grass', 'No'], ['Ali Messaoud', 'M', 88, 15, 'grass', 'No'], ['Ryan Koolwijk', 'M', 90, 15, 'grass', 'No'], ['Mikael Anderson', 'M', 75, 15, 'grass', 'No'], ['Elías Már\\xa0Ómarsson', 'A', 90, 15, 'grass', 'No'], ['Denis Mahmudov', 'A', 81, 15, 'grass', 'No'], ['Mickey van der Hart', 'G', 90, 15, 'artificial turf', 'No'], ['Kingsley Ehizibue', 'D', 90, 15, 'artificial turf', 'No'], ['Sepp van den Berg', 'D', 90, 15, 'artificial turf', 'No'], ['Darryl Lachman', 'D', 90, 15, 'artificial turf', 'No'], ['Bram Van Polen', 'D', 52, 15, 'artificial turf', 'No'], ['Denis Genreau', 'M', 65, 15, 'artificial turf', 'No'], ['Rick Dekker', 'M', 82, 15, 'artificial turf', 'No'], ['Clint Leemans', 'M', 90, 15, 'artificial turf', 'No'], ['Younes Namli', 'A', 90, 15, 'artificial turf', 'No'], ['Mike van Duinen', 'A', 90, 15, 'artificial turf', 'No'], ['Vito van Crooy', 'A', 90, 15, 'artificial turf', 'No'], ['Jeroen Zoet', 'G', 90, 15, 'artificial turf', 'No'], ['Denzel Dumfries', 'D', 75, 15, 'artificial turf', 'No'], ['Daniel Schwaab', 'D', 90, 15, 'artificial turf', 'No'], ['Nick Viergever', 'D', 90, 15, 'artificial turf', 'No'], ['Angeliño', 'D', 90, 15, 'artificial turf', 'No'], ['Dante Rigo', 'M', 81, 15, 'artificial turf', 'No'], ['Gastón Pereiro', 'M', 66, 15, 'artificial turf', 'No'], ['Jorrit Hendrix', 'M', 90, 15, 'artificial turf', 'No'], ['Steven Bergwijn', 'A', 90, 15, 'artificial turf', 'No'], ['Luuk de Jong', 'A', 90, 15, 'artificial turf', 'No'], ['Hirving Lozano', 'A', 90, 15, 'artificial turf', 'No'], ['Timon Wellenreuther', 'G', 90, 16, 'grass', 'No'], ['Freek Heerkens', 'D', 90, 16, 'grass', 'No'], ['Fernando Lewis', 'D', 90, 16, 'grass', 'No'], ['Damil Dankerlui', 'D', 90, 16, 'grass', 'No'], ['Dan Crowley', 'M', 90, 16, 'grass', 'No'], ['Atakan Akkaynak', 'M', 76, 16, 'grass', 'No'], ['Fran Sol', 'A', 90, 16, 'grass', 'No'], ['Aras Özbiliz', 'A', 76, 16, 'grass', 'Yes'], ['Donis Avdijaj', 'A', 90, 16, 'grass', 'No'], ['Janis Jonathan Blaswich', 'G', 90, 16, 'grass', 'No'], ['Wout Droste', 'D', 90, 16, 'grass', 'No'], ['Bart Van Hintum', 'D', 65, 16, 'grass', 'No'], ['Stephen Sama', 'D', 90, 16, 'grass', 'No'], ['Robin Propper', 'D', 90, 16, 'grass', 'No'], ['Alexander Merkel', 'M', 90, 16, 'grass', 'No'], ['Yoell Van Nieff', 'M', 90, 16, 'grass', 'No'], ['Mohammed Osman', 'M', 90, 16, 'grass', 'No'], ['Brandley Kuwas', 'A', 90, 16, 'grass', 'No'], ['Kristoffer Peterson', 'A', 46, 16, 'grass', 'No'], ['Adrian Dalmau', 'A', 76, 16, 'grass', 'No'], ['Diego Palacios', 'D', 90, 16, 'grass', 'No'], ['Pol Llonch', 'M', 68, 16, 'grass', 'No'], ['Warner Hahn', 'G', 90, 16, 'grass', 'No'], ['Doke Schmidt', 'D', 84, 16, 'grass', 'No'], ['Daniel Høegh', 'D', 90, 16, 'grass', 'No'], ['Dave Bulthuis', 'D', 90, 16, 'grass', 'No'], ['Kik Pierie', 'D', 90, 16, 'grass', 'No'], ['Morten Thorsby', 'M', 90, 16, 'grass', 'No'], ['Michel Vlap', 'M', 90, 16, 'grass', 'No'], ['Yuki Kobayashi', 'M', 90, 16, 'grass', 'No'], ['Nemanja Mihajlović', 'A', 46, 16, 'grass', 'No'], ['Sam Lammers', 'A', 90, 16, 'grass', 'No'], ['Arbër Zeneli', 'A', 72, 16, 'grass', 'No'], ['Justin Bijlow', 'G', 90, 16, 'grass', 'No'], ['Jeremiah St. Juste', 'D', 90, 16, 'grass', 'No'], ['Eric Botteghin', 'D', 90, 16, 'grass', 'No'], ['Jan-Arie Van der Heijden', 'D', 90, 16, 'grass', 'No'], ['Tyrell Malacia', 'D', 90, 16, 'grass', 'No'], ['Jens Toornstra', 'M', 90, 16, 'grass', 'No'], ['Jordy Clasie', 'M', 83, 16, 'grass', 'No'], ['Tonny Vilhena', 'M', 90, 16, 'grass', 'No'], ['Steven Berghuis', 'A', 90, 16, 'grass', 'No'], ['Robin van Persie', 'A', 90, 16, 'grass', 'No'], ['Sam Larsson', 'A', 90, 16, 'grass', 'No'], ['David Jensen', 'G', 90, 16, 'grass', 'No'], ['Sean Klaiber', 'D', 90, 16, 'grass', 'No'], ['Emil Bergstrom', 'D', 90, 16, 'grass', 'No'], ['Willem Janssen', 'D', 90, 16, 'grass', 'No'], ['Leon Guwara', 'D', 90, 16, 'grass', 'No'], ['Othman Boussaid', 'M', 90, 16, 'grass', 'No'], ['Urby Emanuelson', 'M', 61, 16, 'grass', 'No'], ['Nicolas Gavory', 'D', 90, 16, 'grass', 'No'], ['Simon Gustafsson', 'M', 90, 16, 'grass', 'No'], ['Gyrano Kerk', 'A', 79, 16, 'grass', 'No'], ['Sander van de Streek', 'M', 90, 16, 'grass', 'No'], ['Lars Unnerstall', 'G', 90, 16, 'grass', 'No'], ['Christian Kum', 'D', 90, 16, 'grass', 'No'], ['Nils Röseler', 'D', 90, 16, 'grass', 'No'], ['Jerold Promes', 'D', 90, 16, 'grass', 'No'], ['Moreno Rutten', 'D', 90, 16, 'grass', 'No'], ['Danny Post', 'M', 90, 16, 'grass', 'No'], ['Tino-Sven Sušić', 'M', 90, 16, 'grass', 'No'], ['Jay-Roy Grot', 'A', 46, 16, 'grass', 'No'], ['Ralf Seuntjens', 'M', 90, 16, 'grass', 'No'], ['Martin Samuelsen', 'M', 65, 16, 'grass', 'No'], ['Marco Bizot', 'G', 90, 16, 'grass', 'No'], ['Jonas Svensson', 'D', 90, 16, 'grass', 'No'], ['Pantelis Hatzidiakos', 'D', 90, 16, 'grass', 'No'], ['Ron Vlaar', 'D', 90, 16, 'grass', 'No'], ['Thomas Ouwejan', 'D', 84, 16, 'grass', 'No'], ['Fredrik Midtsjø', 'M', 90, 16, 'grass', 'No'], ['Guus Til', 'M', 90, 16, 'grass', 'No'], ['Teun Koopmeiners', 'M', 90, 16, 'grass', 'No'], ['Mats Seuntjens', 'A', 73, 16, 'grass', 'No'], ['Myron Boadu', 'A', 65, 16, 'grass', 'No'], ['Oussama Idrissi', 'A', 90, 16, 'grass', 'No'], ['Eduardo', 'G', 90, 16, 'grass', 'No'], ['Vyacheslav Karavaev', 'D', 90, 16, 'grass', 'No'], ['Maikel Van der Werff', 'D', 90, 16, 'grass', 'No'], ['Jake Clarke-Salter', 'D', 90, 16, 'grass', 'No'], ['Alexander Büttner', 'D', 90, 16, 'grass', 'No'], ['Thulani Serero', 'M', 90, 16, 'grass', 'No'], ['Matúš Bero', 'M', 75, 16, 'grass', 'No'], ['Navarone Foor', 'M', 90, 16, 'grass', 'No'], ['Roy Beerens', 'A', 65, 16, 'grass', 'No'], ['Tim Matavz', 'A', 90, 16, 'grass', 'No'], ['Bryan Linssen', 'A', 90, 16, 'grass', 'No']]\n"
     ]
    }
   ],
   "source": [
    "# START AND END DATE \n",
    "start_date = \"2018-08-10\"\n",
    "end_date = \"2018-08-26\"\n",
    "\n",
    "# EMPTY LIST FOR ALL THE VARIABLES\n",
    "lijst = []\n",
    "sub_list = []\n",
    "sub_list_min = []\n",
    "\n",
    "# START QUERY\n",
    "ids = soccer.fixtures(start_date, end_date, includes=('lineup', 'substitutions', 'venue'))\n",
    "\n",
    "# CHANGE THIS LIST TO THE FEATURES YOU APPED\n",
    "inhoud = ['Name', 'Position', 'Minutes_played', 'Day_since_start', 'Venue', 'Injured'] \n",
    "# inhoud = ['Position', 'Minutes_played', 'Day_since_start', 'Venue', 'Injured'] \n",
    "lijst.append(inhoud)\n",
    "\n",
    "# FOR LOOP TO GET ALL THE FIXTURES IN BETWEEN THE START AND END DATE\n",
    "for f in ids:\n",
    "    team = []\n",
    "    index = 0\n",
    "    \n",
    "    # WHILE LOOP TO GET EVERY PLAYER OF THE LINEUP\n",
    "    while len(team) < len(f['lineup']):\n",
    "        speler = []\n",
    "        minutes = 0\n",
    "        \n",
    "        # STANDARD FEATURES (name, position, minutes played, day since start date, injury)\n",
    "        \n",
    "        # NAME PLAYER\n",
    "        name = f['lineup'][index]['player_name']\n",
    "        speler.append(name)\n",
    "        team.append(speler)\n",
    "        \n",
    "#         name = f['lineup'][index]['player_name']\n",
    "#         team.append(name)    \n",
    "    \n",
    "    \n",
    "    \n",
    "        # POSITION PLAYER\n",
    "        position = f['lineup'][index]['position']\n",
    "        speler.append(position)\n",
    "        \n",
    "        # MINUTES PLAYED\n",
    "        indexx = 0 \n",
    "        minutes = 0\n",
    "        while indexx < len(f['substitutions']):\n",
    "            sub = []\n",
    "            player_name = name.split(' ')\n",
    "            sub_name = f['substitutions'][indexx]['player_out_name']\n",
    "            sub_name_split = sub_name.split(' ')  \n",
    "            if player_name[-1] == sub_name_split[-1]:\n",
    "                minutes = f['substitutions'][indexx]['minute']\n",
    "                indexx += 1\n",
    "            else:\n",
    "                indexx += 1\n",
    "        if minutes == 0:\n",
    "            speler.append(90)\n",
    "        else:\n",
    "            speler.append(minutes)\n",
    "        \n",
    "        # DAY SINCE START DATE\n",
    "        current_date = f[\"time\"][\"starting_at\"][\"date\"]\n",
    "        date_format = \"%Y-%m-%d\"\n",
    "        a = datetime.strptime(start_date, date_format)\n",
    "        b = datetime.strptime(current_date, date_format)\n",
    "        delta = b - a\n",
    "        speler.append(delta.days)\n",
    "        \n",
    "        \n",
    "        # VARIABLE FEATURES \n",
    "        \n",
    "        # VENUE SURFACE MATCH\n",
    "        venue = f['venue']['surface']\n",
    "        speler.append(venue)\n",
    "        \n",
    "        \n",
    "        \n",
    "        # TARGET VALUE IF THE PLAYER IS INJURED\n",
    "        \n",
    "        # INJURY\n",
    "        injury_index = 0 \n",
    "        injured = 'null'\n",
    "        while injury_index < len(f['substitutions']):\n",
    "            sub = []\n",
    "            player_name = name.split(' ')\n",
    "            sub_name = f['substitutions'][injury_index]['player_out_name']\n",
    "            sub_name_split = sub_name.split(' ')  \n",
    "            if player_name[-1] == sub_name_split[-1]:\n",
    "                injured = f['substitutions'][injury_index]['injuried']\n",
    "                break\n",
    "            else:\n",
    "                injury_index += 1\n",
    "        if injured == True :\n",
    "            speler.append('Yes')\n",
    "        else:\n",
    "            speler.append('No')\n",
    "        \n",
    "        # APPEND THE PLAYER TO THE BIG LIST\n",
    "        lijst.append(speler)\n",
    "        index += 1\n",
    "\n",
    "\n",
    "print(lijst)"
   ]
  },
  {
   "cell_type": "code",
   "execution_count": 5,
   "metadata": {},
   "outputs": [],
   "source": [
    "# CODE TO EXPORT TO EXCEL \n",
    "with xlsxwriter.Workbook('ajaxtest.xlsx') as workbook:\n",
    "    worksheet = workbook.add_worksheet()\n",
    "\n",
    "    for row_num, data in enumerate(lijst):\n",
    "        worksheet.write_row(row_num, 0, data)\n",
    "\n",
    "# CODE TO CONVERT EXCEL FILE TO JSON --> (Sheet1.json)\n",
    "excel2json.convert_from_file('ajaxtest.xlsx')\n"
   ]
  },
  {
   "cell_type": "code",
   "execution_count": 4,
   "metadata": {},
   "outputs": [
    {
     "name": "stdout",
     "output_type": "stream",
     "text": [
      "                  Name Position  Minutes_played  Day_since_start  \\\n",
      "0        Diederik Boer        G              90                0   \n",
      "1    Kingsley Ehizibue        D              90                0   \n",
      "2       Darryl Lachman        D              90                0   \n",
      "3       Dirk Marcellis        D              90                0   \n",
      "4       Bram Van Polen        D              90                0   \n",
      "..                 ...      ...             ...              ...   \n",
      "587         Matúš Bero        M              75               16   \n",
      "588      Navarone Foor        M              90               16   \n",
      "589        Roy Beerens        A              65               16   \n",
      "590         Tim Matavz        A              90               16   \n",
      "591      Bryan Linssen        A              90               16   \n",
      "\n",
      "               Venue Injured  \n",
      "0    artificial turf      No  \n",
      "1    artificial turf      No  \n",
      "2    artificial turf      No  \n",
      "3    artificial turf      No  \n",
      "4    artificial turf      No  \n",
      "..               ...     ...  \n",
      "587            grass      No  \n",
      "588            grass      No  \n",
      "589            grass      No  \n",
      "590            grass      No  \n",
      "591            grass      No  \n",
      "\n",
      "[592 rows x 6 columns]\n"
     ]
    }
   ],
   "source": [
    "# READ THE JOSN FILE AND PRINT HEAD\n",
    "ajax = pd.read_json(\"Sheet1.json\")\n",
    "print(ajax)"
   ]
  },
  {
   "cell_type": "code",
   "execution_count": 28,
   "metadata": {},
   "outputs": [
    {
     "name": "stdout",
     "output_type": "stream",
     "text": [
      "     Minutes_played  Day_since_start  Name_A. Murić  Name_A. Onana  \\\n",
      "0                90                0              0              0   \n",
      "1                90                0              0              0   \n",
      "2                90                0              0              0   \n",
      "3                90                0              0              0   \n",
      "4                90                0              0              0   \n",
      "..              ...              ...            ...            ...   \n",
      "587              75               16              0              0   \n",
      "588              90               16              0              0   \n",
      "589              65               16              0              0   \n",
      "590              90               16              0              0   \n",
      "591              90               16              0              0   \n",
      "\n",
      "     Name_A. Verschueren  Name_Aaron Meijers  Name_Abdenasser El Khayati  \\\n",
      "0                      0                   0                           0   \n",
      "1                      0                   0                           0   \n",
      "2                      0                   0                           0   \n",
      "3                      0                   0                           0   \n",
      "4                      0                   0                           0   \n",
      "..                   ...                 ...                         ...   \n",
      "587                    0                   0                           0   \n",
      "588                    0                   0                           0   \n",
      "589                    0                   0                           0   \n",
      "590                    0                   0                           0   \n",
      "591                    0                   0                           0   \n",
      "\n",
      "     Name_Adrian Dalmau  Name_Adrián Dalmau  Name_Ahmed El Messaoudi  ...  \\\n",
      "0                     0                   0                        0  ...   \n",
      "1                     0                   0                        0  ...   \n",
      "2                     0                   0                        0  ...   \n",
      "3                     0                   0                        0  ...   \n",
      "4                     0                   0                        0  ...   \n",
      "..                  ...                 ...                      ...  ...   \n",
      "587                   0                   0                        0  ...   \n",
      "588                   0                   0                        0  ...   \n",
      "589                   0                   0                        0  ...   \n",
      "590                   0                   0                        0  ...   \n",
      "591                   0                   0                        0  ...   \n",
      "\n",
      "     Name_Y. van Nieff  Name_Yoell Van Nieff  Name_Younes Namli  \\\n",
      "0                    0                     0                  0   \n",
      "1                    0                     0                  0   \n",
      "2                    0                     0                  0   \n",
      "3                    0                     0                  0   \n",
      "4                    0                     0                  0   \n",
      "..                 ...                   ...                ...   \n",
      "587                  0                     0                  0   \n",
      "588                  0                     0                  0   \n",
      "589                  0                     0                  0   \n",
      "590                  0                     0                  0   \n",
      "591                  0                     0                  0   \n",
      "\n",
      "     Name_Youssef El Jebli  Name_Yuki Kobayashi  Name_Zian Flemming  \\\n",
      "0                        0                    0                   0   \n",
      "1                        0                    0                   0   \n",
      "2                        0                    0                   0   \n",
      "3                        0                    0                   0   \n",
      "4                        0                    0                   0   \n",
      "..                     ...                  ...                 ...   \n",
      "587                      0                    0                   0   \n",
      "588                      0                    0                   0   \n",
      "589                      0                    0                   0   \n",
      "590                      0                    0                   0   \n",
      "591                      0                    0                   0   \n",
      "\n",
      "     Position_D  Position_G  Position_M  Venue_grass  \n",
      "0             0           1           0            0  \n",
      "1             1           0           0            0  \n",
      "2             1           0           0            0  \n",
      "3             1           0           0            0  \n",
      "4             1           0           0            0  \n",
      "..          ...         ...         ...          ...  \n",
      "587           0           0           1            1  \n",
      "588           0           0           1            1  \n",
      "589           0           0           0            1  \n",
      "590           0           0           0            1  \n",
      "591           0           0           0            1  \n",
      "\n",
      "[592 rows x 325 columns]\n",
      "0.9578947368421052\n"
     ]
    },
    {
     "data": {
      "image/png": "[encoded data removed]",
      "text/plain": [
       "<Figure size 360x288 with 2 Axes>"
      ]
     },
     "metadata": {
      "needs_background": "light"
     },
     "output_type": "display_data"
    },
    {
     "name": "stdout",
     "output_type": "stream",
     "text": [
      "0.9327731092436975\n"
     ]
    },
    {
     "data": {
      "image/png": "[encoded data removed]",
      "text/plain": [
       "<Figure size 360x288 with 2 Axes>"
      ]
     },
     "metadata": {
      "needs_background": "light"
     },
     "output_type": "display_data"
    }
   ],
   "source": [
    "import pandas as pd\n",
    "from sklearn.tree import DecisionTreeClassifier\n",
    "\n",
    "one_hot_data = pd.get_dummies(ajax[['Name', 'Position', 'Minutes_played', 'Day_since_start', 'Venue']],drop_first=True)\n",
    "\n",
    "print(one_hot_data) \n",
    "\n",
    "X_train, X_test, y_train, y_test = train_test_split(one_hot_data, ajax['Injured'], test_size=0.2)\n",
    "X_train_val, X_val, y_train_val, y_val = train_test_split(X_train, y_train, test_size=0.2)\n",
    "\n",
    "classifier = DecisionTreeClassifier(random_state=0, max_depth=None)\n",
    "classifier.fit(X_train_val, y_train_val)\n",
    "\n",
    "y_pred = classifier.predict(X_val)\n",
    "\n",
    "print(accuracy_score(y_val, y_pred))\n",
    "\n",
    "# PRINT CONFUSION MATRIX\n",
    "features = ajax['Injured'].unique()\n",
    "confusion = pd.DataFrame(confusion_matrix(y_val, y_pred),columns=features,index=features)\n",
    "plt.figure(figsize=(5,4))\n",
    "sns.heatmap(confusion,annot=True,fmt='d')\n",
    "plt.xlabel('Predicted')\n",
    "plt.ylabel('True')\n",
    "plt.show()\n",
    "\n",
    "\n",
    "y_pred = classifier.predict(X_test)\n",
    "\n",
    "print(accuracy_score(y_test, y_pred))\n",
    "\n",
    "# PRINT CONFUSION MATRIX\n",
    "features = ajax['Injured'].unique()\n",
    "confusion=pd.DataFrame(confusion_matrix(y_test,y_pred),columns=features,index=features)\n",
    "plt.figure(figsize=(5,4))\n",
    "sns.heatmap(confusion,annot=True,fmt='d')\n",
    "plt.xlabel('Predicted')\n",
    "plt.ylabel('True')\n",
    "plt.show()"
   ]
  },
  {
   "cell_type": "code",
   "execution_count": null,
   "metadata": {},
   "outputs": [],
   "source": []
  },
  {
   "cell_type": "code",
   "execution_count": null,
   "metadata": {},
   "outputs": [],
   "source": []
  },
  {
   "cell_type": "code",
   "execution_count": null,
   "metadata": {},
   "outputs": [],
   "source": []
  },
  {
   "cell_type": "code",
   "execution_count": null,
   "metadata": {},
   "outputs": [],
   "source": []
  }
 ],
 "metadata": {
  "kernelspec": {
   "display_name": "Python 3",
   "language": "python",
   "name": "python3"
  },
  "language_info": {
   "codemirror_mode": {
    "name": "ipython",
    "version": 3
   },
   "file_extension": ".py",
   "mimetype": "text/x-python",
   "name": "python",
   "nbconvert_exporter": "python",
   "pygments_lexer": "ipython3",
   "version": "3.7.3"
  }
 },
 "nbformat": 4,
 "nbformat_minor": 4
}
