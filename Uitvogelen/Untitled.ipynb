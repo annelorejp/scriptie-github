{
 "cells": [
  {
   "cell_type": "code",
   "execution_count": 26,
   "metadata": {},
   "outputs": [],
   "source": [
    "proberen = [[1, 'hallo'], [2, 'fuck'], [1, 'ben ik weer'], [3, 'kut'], [2, 'lul'], [4, 'poes']]"
   ]
  },
  {
   "cell_type": "code",
   "execution_count": 27,
   "metadata": {},
   "outputs": [
    {
     "name": "stdout",
     "output_type": "stream",
     "text": [
      "ben ik weer\n",
      "2\n"
     ]
    }
   ],
   "source": [
    "nummer = 1\n",
    "teller = 0\n",
    "for element in reversed(proberen):\n",
    "    if element[0] == nummer:\n",
    "        teller += 1\n",
    "for element in reversed(proberen):\n",
    "    if element[0] == nummer:\n",
    "        print(element[1])\n",
    "        break\n",
    "    \n",
    "print(teller)\n",
    "        \n"
   ]
  },
  {
   "cell_type": "code",
   "execution_count": null,
   "metadata": {},
   "outputs": [],
   "source": []
  }
 ],
 "metadata": {
  "kernelspec": {
   "display_name": "Python 3",
   "language": "python",
   "name": "python3"
  },
  "language_info": {
   "codemirror_mode": {
    "name": "ipython",
    "version": 3
   },
   "file_extension": ".py",
   "mimetype": "text/x-python",
   "name": "python",
   "nbconvert_exporter": "python",
   "pygments_lexer": "ipython3",
   "version": "3.7.3"
  }
 },
 "nbformat": 4,
 "nbformat_minor": 4
}
