{
 "cells": [
  {
   "cell_type": "code",
   "execution_count": 330,
   "metadata": {},
   "outputs": [],
   "source": [
    "# IMPORTS\n",
    "import requests\n",
    "import json\n",
    "from sportmonks.soccer import SoccerApiV2\n",
    "from sklearn.tree import DecisionTreeClassifier\n",
    "from sklearn.metrics import classification_report, confusion_matrix, accuracy_score, log_loss\n",
    "import numpy as np\n",
    "import pandas as pd\n",
    "from sklearn.model_selection import train_test_split\n",
    "from sklearn.preprocessing import LabelEncoder\n",
    "from sklearn.feature_extraction.text import TfidfVectorizer\n",
    "from sklearn.feature_extraction.text import CountVectorizer\n",
    "from sklearn import preprocessing\n",
    "import xlsxwriter\n",
    "import excel2json\n"
   ]
  },
  {
   "cell_type": "code",
   "execution_count": 148,
   "metadata": {},
   "outputs": [],
   "source": [
    "# JSON FORMAT PRINT\n",
    "def jprint(obj):\n",
    "    # create a formatted string of the Python JSON object\n",
    "    text = json.dumps(obj, sort_keys=True, indent=4)\n",
    "    print(text)"
   ]
  },
  {
   "cell_type": "code",
   "execution_count": 3,
   "metadata": {},
   "outputs": [],
   "source": [
    "# API\n",
    "soccer = SoccerApiV2(api_token='kDasthE00jpkFjEERAZNFyE9a79LNX3tPeaAqlhB3s2NhckJbKDhyL94j7AO')"
   ]
  },
  {
   "cell_type": "code",
   "execution_count": null,
   "metadata": {},
   "outputs": [],
   "source": [
    "# AJAX\n",
    "# informatie: https://www.voetbal.com/teams/afc-ajax/2019/3/\n",
    "# team_id = 629\n",
    "# start_date = \"2018-08-11\"\n",
    "# end_date = \"2019-05-15\""
   ]
  },
  {
   "cell_type": "code",
   "execution_count": 1,
   "metadata": {},
   "outputs": [
    {
     "ename": "NameError",
     "evalue": "name 'soccer' is not defined",
     "output_type": "error",
     "traceback": [
      "\u001b[0;31m---------------------------------------------------------------------------\u001b[0m",
      "\u001b[0;31mNameError\u001b[0m                                 Traceback (most recent call last)",
      "\u001b[0;32m<ipython-input-1-059e235a6691>\u001b[0m in \u001b[0;36m<module>\u001b[0;34m\u001b[0m\n\u001b[1;32m      9\u001b[0m \u001b[0mend_date\u001b[0m \u001b[0;34m=\u001b[0m \u001b[0;34m\"2018-12-23\"\u001b[0m\u001b[0;34m\u001b[0m\u001b[0;34m\u001b[0m\u001b[0m\n\u001b[1;32m     10\u001b[0m \u001b[0;34m\u001b[0m\u001b[0m\n\u001b[0;32m---> 11\u001b[0;31m \u001b[0mids\u001b[0m \u001b[0;34m=\u001b[0m \u001b[0msoccer\u001b[0m\u001b[0;34m.\u001b[0m\u001b[0mfixtures\u001b[0m\u001b[0;34m(\u001b[0m\u001b[0mstart_date\u001b[0m\u001b[0;34m,\u001b[0m \u001b[0mend_date\u001b[0m\u001b[0;34m)\u001b[0m\u001b[0;34m\u001b[0m\u001b[0;34m\u001b[0m\u001b[0m\n\u001b[0m\u001b[1;32m     12\u001b[0m \u001b[0;32mfor\u001b[0m \u001b[0mf\u001b[0m \u001b[0;32min\u001b[0m \u001b[0mids\u001b[0m\u001b[0;34m:\u001b[0m\u001b[0;34m\u001b[0m\u001b[0;34m\u001b[0m\u001b[0m\n\u001b[1;32m     13\u001b[0m     \u001b[0;32mif\u001b[0m \u001b[0mf\u001b[0m\u001b[0;34m[\u001b[0m\u001b[0;34m'localteam_id'\u001b[0m\u001b[0;34m]\u001b[0m \u001b[0;34m==\u001b[0m \u001b[0;36m629\u001b[0m \u001b[0;32mor\u001b[0m \u001b[0mf\u001b[0m\u001b[0;34m[\u001b[0m\u001b[0;34m'visitorteam_id'\u001b[0m\u001b[0;34m]\u001b[0m \u001b[0;34m==\u001b[0m \u001b[0;36m629\u001b[0m\u001b[0;34m:\u001b[0m\u001b[0;34m\u001b[0m\u001b[0;34m\u001b[0m\u001b[0m\n",
      "\u001b[0;31mNameError\u001b[0m: name 'soccer' is not defined"
     ]
    }
   ],
   "source": [
    "# CODE TO GET INFORMATION OF THE PLAYERS\n",
    "\n",
    "lijst = []\n",
    "\n",
    "#Get a list of all the fixture ids\n",
    "list_id = []\n",
    "\n",
    "start_date = \"2018-08-11\"\n",
    "end_date = \"2018-12-23\"\n",
    "\n",
    "ids = soccer.fixtures(start_date, end_date)\n",
    "for f in ids:\n",
    "    if f['localteam_id'] == 629 or f['visitorteam_id'] == 629:\n",
    "        id_fixture = f['id']\n",
    "        list_id.append(id_fixture)\n",
    "\n",
    "#Get a list of all the substitutes\n",
    "fixtures = soccer.team_fixtures(start_date, end_date, 629, includes=('localTeam', 'visitorTeam', 'lineup', 'substitutions', 'stats'))\n",
    "sub_list = []\n",
    "sub_list_min = []\n",
    "for f in fixtures:\n",
    "    indexx = 0\n",
    "    while indexx < len(f['substitutions']):\n",
    "        sub = []\n",
    "        subbie = f['substitutions'][indexx]['player_out_id']\n",
    "        subbie_min = f['substitutions'][indexx]['minute']\n",
    "        injuried = f['substitutions'][indexx]['injuried']\n",
    "        sub.append(subbie)\n",
    "        sub.append(subbie_min)\n",
    "        sub.append(injuried)\n",
    "        sub_list_min.append(sub)\n",
    "        sub_list.append(subbie)\n",
    "        indexx += 1\n",
    "\n",
    "#Appending all the information to one list\n",
    "fixtures = soccer.team_fixtures(start_date, end_date, 629, includes=('localTeam', 'visitorTeam', 'lineup', 'substitutions', 'stats'))\n",
    "inhoud = ['Name', 'Position', 'Match_number', 'Match_minutes', 'Injuried']\n",
    "lijst.append(inhoud)\n",
    "for f in fixtures:\n",
    "    team = []\n",
    "    index = 0\n",
    "    \n",
    "    # There is one lineup where 1 player is missing (they start with 10 players?)\n",
    "    if len(f['lineup']) < 22:\n",
    "        print('Line up has less than 22 players for a match')\n",
    "    else:\n",
    "        while len(team) < 11:\n",
    "            speler = []\n",
    "            minutes = 0\n",
    "\n",
    "            if f['lineup'][index]['team_id'] == 629:\n",
    "                id_ = f['lineup'][index]['fixture_id']\n",
    "                match_number = list_id.index(id_) + 1\n",
    "\n",
    "                name = f['lineup'][index]['player_name']\n",
    "                player_name = name.split(' ')\n",
    "                speler.append(player_name[-1])\n",
    "                if f['lineup'][index]['position'] == 'G':\n",
    "                    speler.append('Goalkeeper')\n",
    "                elif f['lineup'][index]['position'] == 'D':\n",
    "                    speler.append('Defender')\n",
    "                elif f['lineup'][index]['position'] == 'M':\n",
    "                    speler.append('Midfielder')\n",
    "                elif f['lineup'][index]['position'] == 'A':\n",
    "                    speler.append('Attacker')\n",
    "\n",
    "                speler.append(match_number)\n",
    "\n",
    "                sub_list = []\n",
    "                sub_list_min = []\n",
    "                full_list = []\n",
    "                fixture_id_sub = \"\"\n",
    "                indexx = 0\n",
    "                while indexx < len(f['substitutions']):\n",
    "                    if f['substitutions'][indexx]['team_id'] == \"629\":\n",
    "                        fixture_id_sub = f['substitutions'][indexx]['fixture_id']\n",
    "                        sub = []\n",
    "                        subbie = f['substitutions'][indexx]['player_out_id']\n",
    "                        subbie_min = f['substitutions'][indexx]['minute']\n",
    "                        injuried = f['substitutions'][indexx]['injuried']\n",
    "                        sub.append(subbie)\n",
    "                        sub.append(subbie_min)\n",
    "                        sub.append(injuried)\n",
    "                        sub_list_min.append(sub)\n",
    "                        sub_list.append(subbie)\n",
    "                        indexx += 1\n",
    "                    else:\n",
    "                        indexx += 1\n",
    "            \n",
    "                playerid = f['lineup'][index]['player_id']\n",
    "                if playerid in sub_list:\n",
    "                    number = sub_list.index(playerid)\n",
    "                    minutes_played = sub_list_min[number][1]\n",
    "                    minutes += minutes_played\n",
    "                    if sub_list_min[number][2] == None:\n",
    "                        injuried = 'No'\n",
    "                    else:\n",
    "                        injuried = 'Yes'\n",
    "                    speler.append(minutes)\n",
    "                    speler.append(injuried)\n",
    "                else:\n",
    "                    minutes += 90\n",
    "                    injuried = 'No'\n",
    "                    speler.append(minutes)\n",
    "                    speler.append(injuried)\n",
    "\n",
    "                index += 1\n",
    "                minutes = 0\n",
    "                team.append(speler)\n",
    "                lijst.append(speler)\n",
    "            else:\n",
    "                index += 1\n",
    "\n",
    "print(lijst)\n"
   ]
  },
  {
   "cell_type": "code",
   "execution_count": 250,
   "metadata": {},
   "outputs": [],
   "source": [
    "# CODE TO EXPORT TO EXCEL \n",
    "with xlsxwriter.Workbook('ajaxtest.xlsx') as workbook:\n",
    "    worksheet = workbook.add_worksheet()\n",
    "\n",
    "    for row_num, data in enumerate(lijst):\n",
    "        worksheet.write_row(row_num, 0, data)\n",
    "\n",
    "# CODE TO CONVERT EXCEL FILE TO JSON --> (Sheet1.json)\n",
    "excel2json.convert_from_file('ajaxtest.xlsx')\n"
   ]
  },
  {
   "cell_type": "code",
   "execution_count": 365,
   "metadata": {},
   "outputs": [],
   "source": []
  },
  {
   "cell_type": "code",
   "execution_count": null,
   "metadata": {},
   "outputs": [],
   "source": []
  },
  {
   "cell_type": "code",
   "execution_count": null,
   "metadata": {},
   "outputs": [],
   "source": [
    "# START MACHINE LEARNING"
   ]
  },
  {
   "cell_type": "code",
   "execution_count": null,
   "metadata": {},
   "outputs": [],
   "source": []
  },
  {
   "cell_type": "code",
   "execution_count": 366,
   "metadata": {},
   "outputs": [
    {
     "name": "stdout",
     "output_type": "stream",
     "text": [
      "         Name    Position  Match_number  Match_minutes Injuried\n",
      "0       Onana  Goalkeeper             1             90       No\n",
      "1    Mazraoui    Defender             1             90       No\n",
      "2        Ligt    Defender             1             90       No\n",
      "3       Blind    Defender             1             90       No\n",
      "4       Wöber    Defender             1             56      Yes\n",
      "..        ...         ...           ...            ...      ...\n",
      "171      Beek  Midfielder            17             90       No\n",
      "172      Jong  Midfielder            17             90       No\n",
      "173    Ziyech  Midfielder            17             90       No\n",
      "174   Dolberg    Attacker            17             90       No\n",
      "175     Tadić  Midfielder            17             90       No\n",
      "\n",
      "[176 rows x 5 columns]\n"
     ]
    }
   ],
   "source": [
    "# READ THE JOSN FILE AND PRINT HEAD\n",
    "ajax = pd.read_json(\"Sheet1.json\")\n",
    "print(ajax)"
   ]
  },
  {
   "cell_type": "code",
   "execution_count": 367,
   "metadata": {},
   "outputs": [],
   "source": [
    "le = preprocessing.LabelEncoder()\n",
    "\n",
    "ajax['Name'] = le.fit_transform(ajax['Name'])\n",
    "ajax['Position'] = le.fit_transform(ajax['Position'])\n",
    "ajax['Injuried'] = le.fit_transform(ajax['Injuried'])"
   ]
  },
  {
   "cell_type": "code",
   "execution_count": 368,
   "metadata": {},
   "outputs": [],
   "source": [
    "Y = ajax.Injuried\n",
    "X = ajax.drop('Injuried', axis = 1)"
   ]
  },
  {
   "cell_type": "code",
   "execution_count": 369,
   "metadata": {},
   "outputs": [],
   "source": [
    "X_train, X_test, y_train, y_test = train_test_split(X, Y, test_size=0.2)\n",
    "X_train1, X_val, y_train1, y_val = train_test_split(X_train, y_train, test_size=0.2)"
   ]
  },
  {
   "cell_type": "code",
   "execution_count": 370,
   "metadata": {},
   "outputs": [
    {
     "data": {
      "text/plain": [
       "DecisionTreeClassifier(ccp_alpha=0.0, class_weight=None, criterion='gini',\n",
       "                       max_depth=None, max_features=None, max_leaf_nodes=None,\n",
       "                       min_impurity_decrease=0.0, min_impurity_split=None,\n",
       "                       min_samples_leaf=1, min_samples_split=2,\n",
       "                       min_weight_fraction_leaf=0.0, presort='deprecated',\n",
       "                       random_state=0, splitter='best')"
      ]
     },
     "execution_count": 370,
     "metadata": {},
     "output_type": "execute_result"
    }
   ],
   "source": [
    "classifier = DecisionTreeClassifier(random_state=0, max_depth=None)\n",
    "classifier.fit(X_train, y_train)"
   ]
  },
  {
   "cell_type": "code",
   "execution_count": 371,
   "metadata": {},
   "outputs": [],
   "source": [
    "# PREDICT VALIDATION\n",
    "y_pred = classifier.predict(X_val)"
   ]
  },
  {
   "cell_type": "code",
   "execution_count": 372,
   "metadata": {},
   "outputs": [
    {
     "name": "stdout",
     "output_type": "stream",
     "text": [
      "1.0\n"
     ]
    }
   ],
   "source": [
    "# PRINT ACCURACY SCORE\n",
    "\n",
    "print(accuracy_score(y_val, y_pred))\n",
    "# print(confusion_matrix(y_val, y_pred))\n",
    "# print(classification_report(y_val, y_pred))"
   ]
  },
  {
   "cell_type": "code",
   "execution_count": 373,
   "metadata": {},
   "outputs": [],
   "source": [
    "# PREDICT TEST \n",
    "y_pred = classifier.predict(X_test)"
   ]
  },
  {
   "cell_type": "code",
   "execution_count": 374,
   "metadata": {},
   "outputs": [
    {
     "name": "stdout",
     "output_type": "stream",
     "text": [
      "1.0\n"
     ]
    }
   ],
   "source": [
    "# PRINT ACCURACY SCORE\n",
    "\n",
    "print(accuracy_score(y_test, y_pred))\n",
    "# print(confusion_matrix(y_test, y_pred))\n",
    "# print(classification_report(y_test, y_pred))"
   ]
  },
  {
   "cell_type": "code",
   "execution_count": null,
   "metadata": {},
   "outputs": [],
   "source": []
  },
  {
   "cell_type": "code",
   "execution_count": null,
   "metadata": {},
   "outputs": [],
   "source": []
  },
  {
   "cell_type": "code",
   "execution_count": null,
   "metadata": {},
   "outputs": [],
   "source": []
  },
  {
   "cell_type": "code",
   "execution_count": null,
   "metadata": {},
   "outputs": [],
   "source": []
  },
  {
   "cell_type": "code",
   "execution_count": null,
   "metadata": {},
   "outputs": [],
   "source": []
  },
  {
   "cell_type": "code",
   "execution_count": null,
   "metadata": {},
   "outputs": [],
   "source": [
    "# PRINTEN VAN DECISION TREE\n",
    "\n",
    "# pip install graphviz\n",
    "# pip install pydotplus\n",
    "\n",
    "# from sklearn.tree import export_graphviz\n",
    "# from sklearn.externals.six import StringIO  \n",
    "# from IPython.display import Image  \n",
    "# import pydotplus\n",
    "\n",
    "# dot_data = StringIO()\n",
    "# export_graphviz(clf, out_file=dot_data,  \n",
    "#                 filled=True, rounded=True,\n",
    "#                 special_characters=True,feature_names = feature_cols,class_names=['0','1'])\n",
    "# graph = pydotplus.graph_from_dot_data(dot_data.getvalue())  \n",
    "# graph.write_png('diabetes.png')\n",
    "# Image(graph.create_png())"
   ]
  }
 ],
 "metadata": {
  "kernelspec": {
   "display_name": "Python 3",
   "language": "python",
   "name": "python3"
  },
  "language_info": {
   "codemirror_mode": {
    "name": "ipython",
    "version": 3
   },
   "file_extension": ".py",
   "mimetype": "text/x-python",
   "name": "python",
   "nbconvert_exporter": "python",
   "pygments_lexer": "ipython3",
   "version": "3.7.3"
  }
 },
 "nbformat": 4,
 "nbformat_minor": 4
}
