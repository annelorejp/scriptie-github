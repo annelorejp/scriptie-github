{
 "cells": [
  {
   "cell_type": "code",
   "execution_count": null,
   "metadata": {},
   "outputs": [],
   "source": [
    "key = 70756843969f68ef104352549472a60a"
   ]
  },
  {
   "cell_type": "code",
   "execution_count": null,
   "metadata": {},
   "outputs": [],
   "source": [
    "start = http://api.weatherstack.com/"
   ]
  },
  {
   "cell_type": "code",
   "execution_count": null,
   "metadata": {},
   "outputs": [],
   "source": [
    "http://api.weatherstack.com/historical\n",
    "    ? access_key = YOUR_ACCESS_KEY\n",
    "    & query = New York\n",
    "    & historical_date = 2015-21-01\n",
    "    "
   ]
  },
  {
   "cell_type": "code",
   "execution_count": 1,
   "metadata": {},
   "outputs": [
    {
     "name": "stdout",
     "output_type": "stream",
     "text": [
      "200\n",
      "{\n",
      "    \"error\": {\n",
      "        \"code\": 603,\n",
      "        \"info\": \"Your current subscription plan does not support historical weather data. Please upgrade your account to use this feature.\",\n",
      "        \"type\": \"historical_queries_not_supported_on_plan\"\n",
      "    },\n",
      "    \"success\": false\n",
      "}\n"
     ]
    }
   ],
   "source": [
    "import requests\n",
    "import json\n",
    "\n",
    "def jprint(obj):\n",
    "    # create a formatted string of the Python JSON object\n",
    "    text = json.dumps(obj, sort_keys=True, indent=4)\n",
    "    print(text)\n",
    "    \n",
    "API_START = \"http://api.weatherstack.com/historical\"\n",
    "TOKEN = \"?access_key=70756843969f68ef104352549472a60a\"\n",
    "WANTED = \"&query=NewYork&historical_date=2015-21-01\"\n",
    "\n",
    "URL = API_START + TOKEN + WANTED \n",
    "\n",
    "response = requests.get(URL) \n",
    "print(response.status_code)\n",
    "\n",
    "jprint(response.json())"
   ]
  },
  {
   "cell_type": "code",
   "execution_count": null,
   "metadata": {},
   "outputs": [],
   "source": []
  }
 ],
 "metadata": {
  "kernelspec": {
   "display_name": "Python 3",
   "language": "python",
   "name": "python3"
  },
  "language_info": {
   "codemirror_mode": {
    "name": "ipython",
    "version": 3
   },
   "file_extension": ".py",
   "mimetype": "text/x-python",
   "name": "python",
   "nbconvert_exporter": "python",
   "pygments_lexer": "ipython3",
   "version": "3.7.3"
  }
 },
 "nbformat": 4,
 "nbformat_minor": 4
}
