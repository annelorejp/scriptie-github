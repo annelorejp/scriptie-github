{
 "cells": [
  {
   "cell_type": "code",
   "execution_count": 2,
   "metadata": {},
   "outputs": [],
   "source": [
    "# IMPORTS\n",
    "import requests\n",
    "import json\n",
    "from sportmonks.soccer import SoccerApiV2\n",
    "from sklearn.tree import DecisionTreeClassifier\n",
    "from sklearn.metrics import classification_report, confusion_matrix, accuracy_score, log_loss\n",
    "import numpy as np\n",
    "import pandas as pd\n",
    "from sklearn.model_selection import train_test_split\n",
    "from sklearn.preprocessing import LabelEncoder\n",
    "from sklearn.feature_extraction.text import TfidfVectorizer\n",
    "from sklearn.feature_extraction.text import CountVectorizer\n"
   ]
  },
  {
   "cell_type": "code",
   "execution_count": 3,
   "metadata": {},
   "outputs": [
    {
     "name": "stdout",
     "output_type": "stream",
     "text": [
      "         Name    Position  Match_number  Match_minutes Injuried\n",
      "0       Onana  Goalkeeper             1             90       No\n",
      "1    Mazraoui    Defender             1             90       No\n",
      "2        Ligt    Defender             1             90       No\n",
      "3       Blind    Defender             1             90       No\n",
      "4       W�ber    Defender             1             56      Yes\n",
      "..        ...         ...           ...            ...      ...\n",
      "171      Beek  Midfielder            17             90       No\n",
      "172      Jong  Midfielder            17             90       No\n",
      "173    Ziyech  Midfielder            17             90       No\n",
      "174   Dolberg    Attacker            17             90       No\n",
      "175     Tadi?  Midfielder            17             90       No\n",
      "\n",
      "[176 rows x 5 columns]\n"
     ]
    }
   ],
   "source": [
    "# READ THE JOSN FILE AND PRINT HEAD\n",
    "ajax = pd.read_json(\"ajaxtest.json\")\n",
    "print(ajax)"
   ]
  },
  {
   "cell_type": "code",
   "execution_count": 16,
   "metadata": {},
   "outputs": [],
   "source": [
    "from sklearn import preprocessing\n",
    "\n",
    "le = preprocessing.LabelEncoder()\n",
    "\n",
    "ajax['Name'] = le.fit_transform(ajax['Name'])\n",
    "ajax['Position'] = le.fit_transform(ajax['Position'])\n",
    "ajax['Injuried'] = le.fit_transform(ajax['Injuried'])"
   ]
  },
  {
   "cell_type": "code",
   "execution_count": 17,
   "metadata": {},
   "outputs": [],
   "source": [
    "Y = ajax.Injuried\n",
    "X = ajax.drop('Injuried', axis = 1)"
   ]
  },
  {
   "cell_type": "code",
   "execution_count": 19,
   "metadata": {},
   "outputs": [],
   "source": [
    "X_train, X_test, y_train, y_test = train_test_split(X, Y, test_size=0.2)\n",
    "X_train1, X_val, y_train1, y_val = train_test_split(X_train, y_train, test_size=0.2)"
   ]
  },
  {
   "cell_type": "code",
   "execution_count": 20,
   "metadata": {},
   "outputs": [
    {
     "data": {
      "text/plain": [
       "DecisionTreeClassifier(ccp_alpha=0.0, class_weight=None, criterion='gini',\n",
       "                       max_depth=None, max_features=None, max_leaf_nodes=None,\n",
       "                       min_impurity_decrease=0.0, min_impurity_split=None,\n",
       "                       min_samples_leaf=1, min_samples_split=2,\n",
       "                       min_weight_fraction_leaf=0.0, presort='deprecated',\n",
       "                       random_state=0, splitter='best')"
      ]
     },
     "execution_count": 20,
     "metadata": {},
     "output_type": "execute_result"
    }
   ],
   "source": [
    "classifier = DecisionTreeClassifier(random_state=0, max_depth=None)\n",
    "classifier.fit(X_train, y_train)"
   ]
  },
  {
   "cell_type": "code",
   "execution_count": 21,
   "metadata": {},
   "outputs": [],
   "source": [
    "y_pred = classifier.predict(X_val)"
   ]
  },
  {
   "cell_type": "code",
   "execution_count": 22,
   "metadata": {},
   "outputs": [
    {
     "name": "stdout",
     "output_type": "stream",
     "text": [
      "1.0\n"
     ]
    }
   ],
   "source": [
    "print(accuracy_score(y_val, y_pred))"
   ]
  },
  {
   "cell_type": "code",
   "execution_count": 23,
   "metadata": {},
   "outputs": [],
   "source": [
    "y_pred = classifier.predict(X_test)"
   ]
  },
  {
   "cell_type": "code",
   "execution_count": 24,
   "metadata": {},
   "outputs": [
    {
     "name": "stdout",
     "output_type": "stream",
     "text": [
      "1.0\n"
     ]
    }
   ],
   "source": [
    "print(accuracy_score(y_test, y_pred))"
   ]
  },
  {
   "cell_type": "code",
   "execution_count": null,
   "metadata": {},
   "outputs": [],
   "source": []
  },
  {
   "cell_type": "code",
   "execution_count": null,
   "metadata": {},
   "outputs": [],
   "source": []
  },
  {
   "cell_type": "code",
   "execution_count": null,
   "metadata": {},
   "outputs": [],
   "source": [
    "# BULLSHIT:\n",
    "\n",
    "vectorizer = TfidfVectorizer()\n",
    "vectorizer.fit(ajax.Name)\n",
    "train, test = train_test_split(ajax, test_size = 0.2)\n",
    "\n",
    "# VECTORIZERS\n",
    "\n",
    "vect = TfidfVectorizer()\n",
    "counter = CountVectorizer()\n",
    "\n",
    "ajax_name = [str (item) for item in ajax.Name]\n",
    "name = vect.fit_transform(ajax.Name)\n",
    "\n",
    "position = vect.fit_transform(ajax.Position)\n",
    "\n",
    "number = [str (item) for item in ajax.Match_number]\n",
    "match_number = vect.fit_transform(number)\n",
    "\n",
    "minutes = [str (item) for item in ajax.Match_minutes]\n",
    "match_minutes = vect.fit_transform(minutes)\n",
    "\n",
    "# features = vect.fit_transform(name, position, match_number, match_minutes)\n",
    "\n",
    "features = (name, position, match_number, match_minutes)\n",
    "# features = [name, position, match_minutes]\n",
    "\n",
    "print(name.shape)\n",
    "print(position.shape)\n",
    "print(match_number.shape)\n",
    "print(match_minutes.shape)\n",
    "# print(features.shape)\n",
    "\n",
    "encoder = LabelEncoder()\n",
    "labels = encoder.fit_transform(ajax.Injuried)\n",
    "\n",
    "# inconsistent numbers of samples: [3, 11]\n",
    "\n",
    "# X = name, position, match_number, match_minutes\n",
    "# Y = labels\n",
    "\n",
    "# # could not convert string to float: 'Mazraoui'\n",
    "\n",
    "# name_m = np.array(name)\n",
    "# position_m = np.array(position)\n",
    "# match_number_m = np.array(ajax.Match_number)\n",
    "# match_minutes_m = np.array(ajax.Match_minutes)\n",
    "\n",
    "# features = np.column_stack((name_m, position_m, match_number_m, match_minutes_m))\n",
    "\n",
    "\n",
    "# X = features\n",
    "# # X = ajax[[\"Name\",\"Position\",\"Match_number\",\"Match_minutes\"]]\n",
    "# Y = ajax[\"Injuried\"]\n",
    "\n",
    "# SPLIT TRAIN, VALIDATION AND TEST SET\n",
    "\n",
    "X_train, X_test, y_train, y_test = train_test_split(X, Y, test_size=0.2)\n",
    "#splitting testset and trainingset\n",
    "\n",
    "X_train1, X_val, y_train1, y_val = train_test_split(X_train, y_train, test_size=0.2)\n",
    "#splitting testset and validationset\n",
    "\n",
    "# FIT CLASSIFIER\n",
    "classifier = DecisionTreeClassifier(random_state=0, max_depth=None)\n",
    "classifier.fit(X_train, y_train)\n",
    "\n",
    "y_pred = classifier.predict(X_val)\n",
    "\n",
    "print(accuracy_score(y_val, y_pred))\n",
    "\n",
    "y_pred = classifier.predict(X_test)\n",
    "\n",
    "print(accuracy_score(y_test, y_pred))\n"
   ]
  }
 ],
 "metadata": {
  "kernelspec": {
   "display_name": "Python 3",
   "language": "python",
   "name": "python3"
  },
  "language_info": {
   "codemirror_mode": {
    "name": "ipython",
    "version": 3
   },
   "file_extension": ".py",
   "mimetype": "text/x-python",
   "name": "python",
   "nbconvert_exporter": "python",
   "pygments_lexer": "ipython3",
   "version": "3.7.3"
  }
 },
 "nbformat": 4,
 "nbformat_minor": 4
}
