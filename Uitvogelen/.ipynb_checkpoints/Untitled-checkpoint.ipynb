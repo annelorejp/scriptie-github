{
 "cells": [
  {
   "cell_type": "code",
   "execution_count": 6,
   "metadata": {},
   "outputs": [],
   "source": [
    "proberen = [[1, 'annelore', 0], [1, 'hallo', 1], [2, 'fuck', 3], [1, 'ben ik weer', 3], [3, 'kut', 5], [2, 'lul', 7], [4, 'poes', 8]]"
   ]
  },
  {
   "cell_type": "code",
   "execution_count": 7,
   "metadata": {},
   "outputs": [
    {
     "name": "stdout",
     "output_type": "stream",
     "text": [
      "poep\n",
      "poep\n",
      "poep\n",
      "poep\n",
      "hallo\n"
     ]
    }
   ],
   "source": [
    "nummer = 1\n",
    "teller = 0\n",
    "checker = 2\n",
    "\n",
    "for element in reversed(proberen):\n",
    "    if element[0] == nummer:\n",
    "        if element[2] < checker:\n",
    "            print(element[1])\n",
    "            break\n",
    "        else:\n",
    "            continue\n",
    "    else:\n",
    "        print('poep')\n",
    "        \n",
    "    \n",
    "        \n"
   ]
  },
  {
   "cell_type": "code",
   "execution_count": null,
   "metadata": {},
   "outputs": [],
   "source": [
    "for iets in reversed(lijst):\n",
    "            if iets[0] == name:\n",
    "                if delt.days > iets[3]: \n",
    "                    gespeeld = iets[4]\n",
    "                    total = gespeeld + minutes\n",
    "                    break\n",
    "            else:\n",
    "                gespeeld = minutes\n",
    "                total = gespeeld"
   ]
  },
  {
   "cell_type": "code",
   "execution_count": null,
   "metadata": {},
   "outputs": [],
   "source": [
    "nummer = 1\n",
    "teller = 0\n",
    "for element in reversed(proberen):\n",
    "    if element[0] == nummer:\n",
    "        teller += 1\n",
    "for element in reversed(proberen):\n",
    "    if element[0] == nummer:\n",
    "        print(element[1])\n",
    "        break\n",
    "    \n",
    "print(teller)\n",
    "        \n"
   ]
  }
 ],
 "metadata": {
  "kernelspec": {
   "display_name": "Python 3",
   "language": "python",
   "name": "python3"
  },
  "language_info": {
   "codemirror_mode": {
    "name": "ipython",
    "version": 3
   },
   "file_extension": ".py",
   "mimetype": "text/x-python",
   "name": "python",
   "nbconvert_exporter": "python",
   "pygments_lexer": "ipython3",
   "version": "3.7.3"
  }
 },
 "nbformat": 4,
 "nbformat_minor": 4
}
