{
 "cells": [
  {
   "cell_type": "code",
   "execution_count": 4,
   "metadata": {},
   "outputs": [],
   "source": [
    "secret = \"sR6qEPgsf97y\"\n",
    "username = \"tickaroo\"\n",
    "password = \"eksarb\"\n",
    "basepath = \"/API/android/1.0/\"\n",
    "host = \"ovsyndication.kicker.de\"\n"
   ]
  },
  {
   "cell_type": "code",
   "execution_count": 3,
   "metadata": {},
   "outputs": [
    {
     "name": "stdout",
     "output_type": "stream",
     "text": [
      "hoihallohey\n"
     ]
    }
   ],
   "source": [
    "empty = \"\"\n",
    "\n",
    "access_token = 'hoi'\n",
    "\n",
    "empty += access_token\n",
    "\n",
    "method_name = 'hallo'\n",
    "\n",
    "empty += method_name\n",
    "\n",
    "parameters = 'hey'\n",
    "\n",
    "empty += parameters\n",
    "\n",
    "print(empty)"
   ]
  },
  {
   "cell_type": "code",
   "execution_count": 15,
   "metadata": {},
   "outputs": [
    {
     "name": "stdout",
     "output_type": "stream",
     "text": [
      "04.05.2020 16:59:36\n"
     ]
    }
   ],
   "source": [
    "from datetime import datetime, date\n",
    "\n",
    "now = datetime.now()\n",
    "time = now.strftime(\"%H:%M:%S\")\n",
    "today = date.today()\n",
    "date = today.strftime(\"%d.%m.%Y\")\n",
    "\n",
    "current_time = date + \" \" + time\n",
    "print(current_time)"
   ]
  },
  {
   "cell_type": "code",
   "execution_count": 16,
   "metadata": {},
   "outputs": [
    {
     "name": "stdout",
     "output_type": "stream",
     "text": [
      "3tickarooeksarb04.05.2020 16:59:36\n"
     ]
    }
   ],
   "source": [
    "str = \"3\" + username + password + current_time\n",
    "print(str)"
   ]
  },
  {
   "cell_type": "code",
   "execution_count": 17,
   "metadata": {},
   "outputs": [
    {
     "ename": "NameError",
     "evalue": "name 'getHmacSha1' is not defined",
     "output_type": "error",
     "traceback": [
      "\u001b[0;31m---------------------------------------------------------------------------\u001b[0m",
      "\u001b[0;31mNameError\u001b[0m                                 Traceback (most recent call last)",
      "\u001b[0;32m<ipython-input-17-2ecb51d80d1c>\u001b[0m in \u001b[0;36m<module>\u001b[0;34m\u001b[0m\n\u001b[0;32m----> 1\u001b[0;31m \u001b[0mauth_code\u001b[0m \u001b[0;34m=\u001b[0m \u001b[0mgetHmacSha1\u001b[0m\u001b[0;34m(\u001b[0m\u001b[0mstr\u001b[0m\u001b[0;34m,\u001b[0m \u001b[0msecret\u001b[0m\u001b[0;34m)\u001b[0m\u001b[0;34m\u001b[0m\u001b[0;34m\u001b[0m\u001b[0m\n\u001b[0m",
      "\u001b[0;31mNameError\u001b[0m: name 'getHmacSha1' is not defined"
     ]
    }
   ],
   "source": [
    "auth_code = getHmacSha1(str, secret)"
   ]
  },
  {
   "cell_type": "code",
   "execution_count": 18,
   "metadata": {},
   "outputs": [
    {
     "name": "stdout",
     "output_type": "stream",
     "text": [
      "joe\n"
     ]
    }
   ],
   "source": [
    "string = \"axxxb\"\n",
    "if 'xxx' in string:\n",
    "    print('joe')\n",
    "else:\n",
    "    print('stupid')"
   ]
  },
  {
   "cell_type": "code",
   "execution_count": null,
   "metadata": {},
   "outputs": [],
   "source": []
  }
 ],
 "metadata": {
  "kernelspec": {
   "display_name": "Python 3",
   "language": "python",
   "name": "python3"
  },
  "language_info": {
   "codemirror_mode": {
    "name": "ipython",
    "version": 3
   },
   "file_extension": ".py",
   "mimetype": "text/x-python",
   "name": "python",
   "nbconvert_exporter": "python",
   "pygments_lexer": "ipython3",
   "version": "3.7.3"
  }
 },
 "nbformat": 4,
 "nbformat_minor": 4
}
